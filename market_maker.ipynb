{
 "cells": [
  {
   "cell_type": "code",
   "execution_count": null,
   "metadata": {},
   "outputs": [],
   "source": [
    "# Import Dependencies\n",
    "import pandas as pd\n",
    "import numpy as np\n",
    "import matplotlib.pyplot as plt\n",
    "from black_scholes import call_value, put_value, call_delta, put_delta, call_vega, put_vega\n",
    "%matplotlib inline"
   ]
  },
  {
   "cell_type": "code",
   "execution_count": null,
   "metadata": {},
   "outputs": [],
   "source": [
    "def read_data(filename):\n",
    "    df = pd.read_csv(filename, index_col=0)\n",
    "\n",
    "    time_to_expiry = df.filter(like='TimeToExpiry')\n",
    "\n",
    "    stock = df.filter(like='Stock')\n",
    "    stock.columns = [stock.columns.str[-5:], stock.columns.str[:-6]]\n",
    "\n",
    "    options = pd.concat((df.filter(like='-P'), df.filter(like='-C')), axis=1)\n",
    "    options.columns = [options.columns.str[-3:], options.columns.str[:-4]]\n",
    "\n",
    "    market_data = pd.concat((stock, options), axis=1)\n",
    "\n",
    "    return time_to_expiry, market_data"
   ]
  },
  {
   "cell_type": "code",
   "execution_count": null,
   "metadata": {},
   "outputs": [],
   "source": [
    "# Read the market data\n",
    "filename = 'Options Arbitrage.csv'\n",
    "time_to_expiry, market_data = read_data(filename)"
   ]
  },
  {
   "cell_type": "code",
   "execution_count": null,
   "metadata": {},
   "outputs": [],
   "source": [
    "# Get a list of all instrument names including the stock, and of the options only\n",
    "instrument_names = list(market_data.columns.get_level_values(0).unique())\n",
    "print(instrument_names)\n",
    "\n",
    "option_names = instrument_names[1:]\n",
    "print(option_names)"
   ]
  },
  {
   "cell_type": "code",
   "execution_count": null,
   "metadata": {},
   "outputs": [],
   "source": [
    "# Add time_to_expiry to market_data\n",
    "market_data['TTE'] = time_to_expiry['TimeToExpiry']\n",
    "\n",
    "# Store timestamp in variable to prevent\n",
    "# errors with multiplications and such\n",
    "timestamp = market_data.index\n",
    "\n",
    "# Set the Time to Expiry as Index\n",
    "market_data = market_data.set_index('TTE')"
   ]
  },
  {
   "cell_type": "code",
   "execution_count": null,
   "metadata": {},
   "outputs": [],
   "source": [
    "# Create Empty Dictionaries\n",
    "option_values = {}\n",
    "option_deltas = {}\n",
    "\n",
    "# Set known attributes\n",
    "r = 0\n",
    "sigma = 0.20\n",
    "\n",
    "# Precompute Ask and Bid Prices to avoid redundant access\n",
    "ask_prices = market_data['Stock', 'AskPrice'].values\n",
    "bid_prices = market_data['Stock', 'BidPrice'].values\n",
    "\n",
    "# Get a list of unique timestamps from market_data\n",
    "timestamps = market_data.index.unique()\n",
    "\n",
    "# Function to calculate option values and deltas\n",
    "def calculate_values_and_deltas(option, K, option_type, price_type, delta_multiplier):\n",
    "    values = []\n",
    "    deltas = []\n",
    "    for i, time in enumerate(timestamps):\n",
    "        if 'Call' in option_type:\n",
    "            value_function = call_value\n",
    "            delta_function = call_delta\n",
    "        else:\n",
    "            value_function = put_value\n",
    "            delta_function = put_delta\n",
    "        \n",
    "        if price_type == 'AskPrice':\n",
    "            price = ask_prices[i]\n",
    "        else:\n",
    "            price=bid_prices[i]\n",
    "        value = value_function(price, K, time, r, sigma)\n",
    "        delta = delta_function(price, K, time, r, sigma) * delta_multiplier\n",
    "\n",
    "        values.append(value)\n",
    "        deltas.append(delta)\n",
    "    \n",
    "    option_values[option_type, option] = values\n",
    "    option_deltas[option_type, option] = deltas\n",
    "\n",
    "# Loop through option names and calculate values and deltas\n",
    "for option in option_names:\n",
    "    K = int(option[-2:])\n",
    "    \n",
    "    if 'C' in option:\n",
    "        calculate_values_and_deltas(option, K, 'Long Call', 'BidPrice', 1)\n",
    "        calculate_values_and_deltas(option, K, 'Short Call', 'AskPrice', -1)\n",
    "    else:\n",
    "        calculate_values_and_deltas(option, K, 'Long Put', 'AskPrice', 1)\n",
    "        calculate_values_and_deltas(option, K, 'Short Put', 'BidPrice', -1)\n",
    "\n",
    "# Create DataFrames with index market_data\n",
    "option_values = pd.DataFrame(option_values, index=market_data.index)\n",
    "option_deltas = pd.DataFrame(option_deltas, index=market_data.index)\n",
    "option_values = option_values.reindex(sorted(option_values.columns), axis=1)\n",
    "option_deltas = option_deltas.reindex(sorted(option_deltas.columns), axis=1)\n",
    "option_values = round(option_values, 2)"
   ]
  },
  {
   "cell_type": "code",
   "execution_count": null,
   "metadata": {},
   "outputs": [],
   "source": [
    "# Mapping for option types to their respective long and short descriptions\n",
    "option_type_mapping = {\n",
    "    \"C\": {\"Short\": \"Short Call\", \"Long\": \"Long Call\"},\n",
    "    \"P\": {\"Short\": \"Short Put\", \"Long\": \"Long Put\"}\n",
    "}\n",
    "\n",
    "# Loop through each option and populate market_data DataFrame with expected prices and deltas\n",
    "for option in option_names:\n",
    "    option_key = \"C\" if \"C\" in option else \"P\"\n",
    "    mapping = option_type_mapping[option_key]\n",
    "\n",
    "    market_data[option, 'Expected AskPrice'] = option_values[mapping['Short'], option]\n",
    "    market_data[option, 'Expected BidPrice'] = option_values[mapping['Long'], option]\n",
    "    market_data[option, 'Delta Short'] = option_deltas[mapping['Short'], option].values\n",
    "    market_data[option, 'Delta Long'] = option_deltas[mapping['Long'], option].values"
   ]
  }
 ],
 "metadata": {
  "language_info": {
   "name": "python"
  },
  "orig_nbformat": 4
 },
 "nbformat": 4,
 "nbformat_minor": 2
}
